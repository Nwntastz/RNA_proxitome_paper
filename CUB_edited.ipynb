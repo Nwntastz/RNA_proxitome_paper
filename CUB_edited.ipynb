{
 "cells": [
  {
   "cell_type": "code",
   "execution_count": null,
   "id": "c839eace",
   "metadata": {},
   "outputs": [],
   "source": [
    "import pandas as pd\n",
    "from collections import Counter\n",
    "import numpy as np\n",
    "import matplotlib.pyplot as plt\n",
    "import seaborn as sns\n",
    "import scikit_posthocs as sp\n",
    "from statannot import add_stat_annotation\n",
    "from itertools import combinations\n",
    "from scipy import stats"
   ]
  },
  {
   "cell_type": "markdown",
   "id": "ef354323",
   "metadata": {},
   "source": [
    "### Data import"
   ]
  },
  {
   "cell_type": "code",
   "execution_count": null,
   "id": "dd8e55b4",
   "metadata": {},
   "outputs": [],
   "source": [
    "#Import of CDS sequences from Araport \n",
    "from collections import defaultdict\n",
    "\n",
    "dic=defaultdict(str)\n",
    "with open(\"C:/.../Araport11_cds_20220914\") as f:\n",
    "    line='1'\n",
    "    while line:\n",
    "        line=f.readline().strip()\n",
    "        if \">\" in line:\n",
    "            name=line[1:line.index(\"|\")-1]\n",
    "            continue\n",
    "        dic[name]+=line      \n",
    "\n",
    "cds=dict(dic)\n",
    "cds=dict(filter(lambda x: len(x[1])%3==0 and set(x[1])-{\"A\",'C',\"G\",\"T\"}==set() and \".1\" in x[0] and x[1][:3]==\"ATG\" and len(x[1])>3 and x[1][-3:]in ['TGA','TAA','TAG'], cds.items()))\n",
    "\n",
    "codons=dict(map(lambda x: [x[0],[x[1][i:i+3] for i in range(0,len(x[1]),3)]],cds.items()))\n",
    "\n",
    "all_codons=[j for i in codons.values() for j in i]\n",
    "\n",
    "codon_freq=Counter(all_codons)"
   ]
  },
  {
   "cell_type": "code",
   "execution_count": null,
   "id": "7dfe63b0",
   "metadata": {},
   "outputs": [],
   "source": [
    "#Import of the T-RIP dataset\n",
    "df=pd.read_excel('C:/.../T-RIP_data', skiprows=[0])"
   ]
  },
  {
   "cell_type": "markdown",
   "id": "a910bb77",
   "metadata": {},
   "source": [
    "### Setting up dependencies"
   ]
  },
  {
   "cell_type": "code",
   "execution_count": null,
   "id": "7e97d03b",
   "metadata": {},
   "outputs": [],
   "source": [
    "Gen_code={\n",
    "    'Phe': [\"TTT\",\"TTC\"],\n",
    "    'Leu':[\"TTA\",\"TTG\",\"CTT\",\"CTC\",\"CTA\",'CTG'],\n",
    "    'Ile':[\"ATT\",\"ATC\",\"ATA\"],\n",
    "    'Met':[\"ATG\"],\n",
    "    'Val':[\"GTT\",\"GTC\",\"GTA\",\"GTG\"],\n",
    "    'Ser':[\"TCT\",\"TCC\",\"TCA\",'TCG',\"AGT\",'AGC'],\n",
    "    'Pro':[\"CCT\",\"CCC\",\"CCA\",\"CCG\"],\n",
    "    'Thr':['ACT',\"ACC\",\"ACA\",\"ACG\"],\n",
    "    'Ala':[\"GCT\",\"GCC\",\"GCA\",\"GCG\"],\n",
    "    'Tyr':[\"TAT\",\"TAC\"],\n",
    "    'Ter':[\"TAA\",\"TAG\",\"TGA\"],\n",
    "    'His':[\"CAT\",\"CAC\"],\n",
    "    'Gln':[\"CAA\",\"CAG\"],\n",
    "    'Asn':[\"AAT\",\"AAC\"],\n",
    "    'Lys':[\"AAA\",\"AAG\"],\n",
    "    'Asp':[\"GAT\",\"GAC\"],\n",
    "    'Glu':[\"GAA\",\"GAG\"],\n",
    "    'Cys':[\"TGT\",'TGC'],\n",
    "    'Trp':[\"TGG\"],\n",
    "    'Arg':[\"CGT\",\"CGC\",\"CGA\",\"CGG\",\"AGA\",\"AGG\"],\n",
    "    'Gly':['GGT',\"GGC\",\"GGA\",\"GGG\"]\n",
    "}\n"
   ]
  },
  {
   "cell_type": "code",
   "execution_count": null,
   "id": "484aee68",
   "metadata": {},
   "outputs": [],
   "source": [
    "l=[(i,j) for i in range(3) for j in [\"A\",\"G\",\"C\",\"T\"]]\n",
    "nucleotide_freqs={nucleotide+\"_\"+str(position):sum(map(lambda y: y[1], filter(lambda x: x[0][position]==nucleotide, codon_freq.items())))/len(all_codons) for position,nucleotide in l}"
   ]
  },
  {
   "cell_type": "markdown",
   "id": "277248fb",
   "metadata": {},
   "source": [
    "### Calculation of RCBS score"
   ]
  },
  {
   "cell_type": "code",
   "execution_count": null,
   "id": "21466cf7",
   "metadata": {},
   "outputs": [],
   "source": [
    "#To run properly, this class is dependent on aforementioned\n",
    "import numpy as np\n",
    "from collections import Counter\n",
    "\n",
    "class RCBS:\n",
    "    def __init__(self, seq):\n",
    "        self.seq=seq\n",
    "        \n",
    "    def __len__(self):\n",
    "        return len(self.seq)\n",
    "    \n",
    "    def codon_frequency(self):\n",
    "        return dict(Counter(self.seq))\n",
    "    \n",
    "    def relative_codon_frequency(self):\n",
    "        return {k:v/len(self.seq) for k,v in Counter(self.seq).items()}\n",
    "\n",
    "    def nucleotide_frequencies(self):\n",
    "        l=[(i,j) for i in range(3) for j in [\"A\",\"G\",\"C\",\"T\"]]\n",
    "        return {nucleotide+\"_\"+str(position):sum(map(lambda y: y[1], filter(lambda x: x[0][position]==nucleotide,Counter(self.seq).items())))/len(self.seq) for position,nucleotide in l}\n",
    "    \n",
    "    def translation_table(self):\n",
    "        return {item:k for k,v in Gen_code.items() for item in v}\n",
    "    \n",
    "    def gene_code(self):\n",
    "        return dict(map(lambda x: (x[0], [item for item in x[1] if item in self.seq]), Gen_code.items()))\n",
    "    \n",
    "    def codon_RCBS(self):\n",
    "        return dict(map(lambda x: (x[0], {i:self.relative_codon_frequency()[i]/np.prod([self.nucleotide_frequencies()[f\"{i[j]}_{j}\"] for j in range(3)]) for i in x[1]}), self.gene_code().items()))\n",
    "    \n",
    "    def corrected_codon_RCBS(self):\n",
    "        return dict(map(lambda x: (x[0], {i:((self.relative_codon_frequency()[i]*len(self.seq)+rela[i]*500)/(len(self.seq)+500))/np.prod([(self.nucleotide_frequencies()[f\"{i[j]}_{j}\"]*len(self.seq)+nucleotide_freqs[f\"{i[j]}_{j}\"]*500)/(len(self.seq)+500) for j in range(3)]) for i in x[1]}), self.gene_code().items()))\n",
    "        \n",
    "    \n",
    "    def gene_corrected_RCBS(self):\n",
    "        RCBS_simplified={k:v for x in self.corrected_codon_RCBS().values() for k,v in x.items()}\n",
    "        values={k:v**p for k,v in RCBS_simplified.items() for q,p in self.codon_frequency().items() if k==q}\n",
    "        return np.prod(list(values.values()))**(1/len(self.seq))-1"
   ]
  },
  {
   "cell_type": "code",
   "execution_count": null,
   "id": "605b66d2",
   "metadata": {},
   "outputs": [],
   "source": [
    "#Calculation of length normalized RCBS score\n",
    "RCBS_vals={k: RCBS(v).gene_corrected_RCBS() for k,v in codons.items()}"
   ]
  },
  {
   "cell_type": "markdown",
   "id": "6be6cddc",
   "metadata": {},
   "source": [
    "### LogFC binning based on RCBS"
   ]
  },
  {
   "cell_type": "code",
   "execution_count": null,
   "id": "329ac8cf",
   "metadata": {},
   "outputs": [],
   "source": [
    "#For heat conditions \"Log ratio heat\" may be used\n",
    "mock_enriched=df[df[\"Log ratio mock\"]>1][\"geneID\"].to_list()"
   ]
  },
  {
   "cell_type": "code",
   "execution_count": null,
   "id": "0423460f",
   "metadata": {},
   "outputs": [],
   "source": [
    "to_1_5=df[(df[\"Log ratio mock\"]>1) & (df[\"Log ratio mock\"]<=1.5)][\"geneID\"].to_list()\n",
    "to_2=df[(df[\"Log ratio mock\"]>1.5) & (df[\"Log ratio mock\"]<=2)][\"geneID\"].to_list()\n",
    "up_2=df[(df[\"Log ratio mock\"]>2)][\"geneID\"].to_list()"
   ]
  },
  {
   "cell_type": "code",
   "execution_count": null,
   "id": "16abd86a",
   "metadata": {},
   "outputs": [],
   "source": [
    "first=list(map(lambda x: x[1],filter(lambda x: x[0][:-2] in to_1_5, RCBS_vals.items())))\n",
    "second=list(map(lambda x: x[1],filter(lambda x: x[0][:-2] in to_2, RCBS_vals.items())))\n",
    "third=list(map(lambda x: x[1],filter(lambda x: x[0][:-2] in up_2, RCBS_vals.items())))"
   ]
  },
  {
   "cell_type": "code",
   "execution_count": null,
   "id": "78be3d23",
   "metadata": {},
   "outputs": [],
   "source": [
    "results=np.triu(sp.posthoc_dunn([first,second,third], p_adjust = 'bonferroni'),1)\n",
    "indices=np.nonzero(results)\n",
    "p_vals=results[indices].tolist()"
   ]
  },
  {
   "cell_type": "code",
   "execution_count": null,
   "id": "6db52a23",
   "metadata": {},
   "outputs": [],
   "source": [
    "ps=list(map(lambda x: \"ns\"if x>=0.05 else \"$\"+f\"{x:.2e}\"f\"{x}\"[:f\"{x:.2e}\".index(\"-\")].replace(\"e\",\"\\cdot10^{%s}\"%f\"{x:.2e}\"[f\"{x:.2e}\".index(\"-\"):])+\"$\",p_vals))"
   ]
  },
  {
   "cell_type": "code",
   "execution_count": null,
   "id": "bce81b56",
   "metadata": {},
   "outputs": [],
   "source": [
    "fig, ax = plt.subplots(figsize=(10, 6))\n",
    "\n",
    "tags=['1-1.5',\"1.5-2\",\">2\"]\n",
    "sns.set_style(\"white\")\n",
    "\n",
    "sns.histplot(data=[first,second,third],bins=50,kde=True,palette=[\"#87CEEB\",\"#FFA500\",\"#0CBAA6\"],alpha=0.8)\n",
    "#sns.kdeplot(data=[first,second,third],palette=[\"#87CEEB\",\"#FFA500\",\"#0CBAA6\"],fill=True)\n",
    "\n",
    "ax.axvline(np.median(first),linestyle='--',color=\"#87CEEB\", alpha=0.8)\n",
    "ax.axvline(np.median(second),linestyle='--',color=\"#FFA500\", alpha=0.8) #For fixed grouping\n",
    "ax.axvline(np.median(third),linestyle='--',color='#0CBAA6', alpha=0.8)\n",
    "\n",
    "ax.legend(labels=tags[::-1],ncols=3) \n",
    "ax.set_title('Mock')\n",
    "ax.set_xlabel(\"RCBS\")\n",
    "\n",
    "ax_sub=fig.add_axes([0.57,0.4,0.32,0.35])\n",
    "sns.set_style(\"whitegrid\")\n",
    "\n",
    "sec=sns.boxplot(data=[first,second,third], \n",
    "            showfliers=False,palette=[\"#87CEEB\",\"#FFA500\",\"#0CBAA6\"])\n",
    "#sns.stripplot(data=[first,second,third],color=\"k\", \n",
    "            #size=2,alpha=0.8)\n",
    "\n",
    "add_stat_annotation(ax=sec,x=tags,y=[np.median(first),np.median(second),np.median(third)],\n",
    "                                           box_pairs=list(combinations(tags,2)),\n",
    "                                           pvalues=p_vals,\n",
    "                                           text_annot_custom=ps,\n",
    "                                           text_format=\"simple\",\n",
    "                                           loc=\"inside\",\n",
    "                                           perform_stat_test=False,\n",
    "                                           line_offset_to_box=0.65)\n",
    "\n",
    "\n",
    "\n",
    "ax_sub.set_xticklabels(tags)\n",
    "\n",
    "plt.xticks(rotation=45)\n",
    "\n",
    "#plt.savefig(\"name.tiff\",dpi=600)"
   ]
  },
  {
   "cell_type": "markdown",
   "id": "7c93e605",
   "metadata": {},
   "source": [
    "### Pairwise comparison between enriched transcripts and transcriptome"
   ]
  },
  {
   "cell_type": "code",
   "execution_count": null,
   "id": "9dbb65ef",
   "metadata": {},
   "outputs": [],
   "source": [
    "enriched=list(map(lambda x:x[1],filter(lambda x: x[0][:-2] in mock_enriched,RCBS_vals.items())))"
   ]
  },
  {
   "cell_type": "code",
   "execution_count": null,
   "id": "8f6d8fc7",
   "metadata": {},
   "outputs": [],
   "source": [
    "upper_bound=np.quantile(list(RCBS_vals.values()),0.75)+5*stats.iqr(list(RCBS_vals.values()))\n",
    "lower_bound=np.quantile(list(RCBS_vals.values()),0.25)-5*stats.iqr(list(RCBS_vals.values()))\n",
    "corr_1=list(filter(lambda x: lower_bound<=x<=upper_bound,comp.values()))"
   ]
  },
  {
   "cell_type": "code",
   "execution_count": null,
   "id": "8db74626",
   "metadata": {},
   "outputs": [],
   "source": [
    "comparison=[stats.mannwhitneyu(list(RCBS_vals.values()),enriched)[1]]\n",
    "ps=list(map(lambda x: \"ns\"if x>=0.05 else \"$\"+f\"{x:.2e}\"f\"{x}\"[:f\"{x:.2e}\".index(\"-\")].replace(\"e\",\"\\cdot10^{%s}\"%f\"{x:.2e}\"[f\"{x:.2e}\".index(\"-\"):])+\"$\",comparison))"
   ]
  },
  {
   "cell_type": "code",
   "execution_count": null,
   "id": "5d5b3448",
   "metadata": {},
   "outputs": [],
   "source": [
    "fig, ax = plt.subplots(figsize=(10, 6))\n",
    "\n",
    "sns.set_style(\"white\")\n",
    "\n",
    "sns.histplot(data=[list(RCBS_vals.values()),enriched],bins=50,kde=True,palette=[\"#87CEEB\",\"#FFA500\"])\n",
    "\n",
    "ax.axvline(np.median(list(RCBS_vals.values())),linestyle='-',color='k', alpha=0.5)\n",
    "ax.axvline(np.median(enriched),linestyle='--',color='k', alpha=0.5) \n",
    "\n",
    "ax.legend(labels=[\"Transcriptome\", \"PB-in\"][::-1],ncols=1) \n",
    "ax.set_title('Mock')\n",
    "ax.set_xlabel(\"RCBS\")\n",
    "\n",
    "ax_sub=fig.add_axes([0.18, 0.4,0.25,0.3])\n",
    "sns.set_style(\"whitegrid\")\n",
    "\n",
    "#second=sns.stripplot(data=[corr_1,enriched_cor],color=\"k\", \n",
    "            #size=1,alpha=0.5)\n",
    "\n",
    "second=sns.boxplot(data=[list(RCBS_vals.values()),enriched],showfliers=False,palette=[\"#87CEEB\",\"#FFA500\"])\n",
    "\n",
    "from statannot import add_stat_annotation\n",
    "add_stat_annotation(ax=second,x=[\"Transcriptome\", \"PB-in\"],\n",
    "                                           y=[np.median(list(RCBS_vals.values())),np.median(enriched)],\n",
    "                                           box_pairs=[(\"Transcriptome\", \"PB-in\")],\n",
    "                                           pvalues=comparison,\n",
    "                                           text_annot_custom=ps,\n",
    "                                           text_format=\"simple\",\n",
    "                                           loc=\"inside\",\n",
    "                                           perform_stat_test=False,\n",
    "                                           line_offset_to_box=0.5)\n",
    "\n",
    "ax_sub.set_xticklabels([\"Transcriptome\", \"PB-in\"])\n",
    "\n",
    "#plt.savefig(\"name.tiff\",dpi=600)"
   ]
  }
 ],
 "metadata": {
  "kernelspec": {
   "display_name": "Python 3 (ipykernel)",
   "language": "python",
   "name": "python3"
  },
  "language_info": {
   "codemirror_mode": {
    "name": "ipython",
    "version": 3
   },
   "file_extension": ".py",
   "mimetype": "text/x-python",
   "name": "python",
   "nbconvert_exporter": "python",
   "pygments_lexer": "ipython3",
   "version": "3.9.16"
  }
 },
 "nbformat": 4,
 "nbformat_minor": 5
}
