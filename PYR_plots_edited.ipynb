{
 "cells": [
  {
   "cell_type": "code",
   "execution_count": null,
   "id": "cb8a7a76",
   "metadata": {},
   "outputs": [],
   "source": [
    "import pandas as pd\n",
    "from collections import defaultdict\n",
    "import numpy as np\n",
    "import matplotlib.pyplot as plt\n",
    "import seaborn as sns\n",
    "from matplotlib import gridspec\n",
    "from scipy.stats import pearsonr\n",
    "from scipy import stats"
   ]
  },
  {
   "cell_type": "markdown",
   "id": "f5987b39",
   "metadata": {},
   "source": [
    "### Import of Data"
   ]
  },
  {
   "cell_type": "code",
   "execution_count": null,
   "id": "ee23a1ef",
   "metadata": {},
   "outputs": [],
   "source": [
    "df=pd.read_excel(r\"C:\\...\\Enriched transcripts.xlsx\",skiprows=[0])"
   ]
  },
  {
   "cell_type": "code",
   "execution_count": null,
   "id": "1a958285",
   "metadata": {},
   "outputs": [],
   "source": [
    "coR_Heat=pd.read_excel(r\"C:\\...\\co_regulons_new_andria.xlsx\", sheet_name=\"HS APEAL RIP up 0.8\")\n",
    "coR_Mock=pd.read_excel(r\"C:\\...\\co_regulons_new_andria.xlsx\", sheet_name=\"NS APEAL RIP up 0.8\")"
   ]
  },
  {
   "cell_type": "code",
   "execution_count": null,
   "id": "addcc601",
   "metadata": {},
   "outputs": [],
   "source": [
    "df2=pd.read_excel(r\"C:\\...\\P bodies interactome meta analytics_ANDRIA CORRECT values final.xlsx\",skiprows=[0,1,2])"
   ]
  },
  {
   "cell_type": "code",
   "execution_count": null,
   "id": "0bf982e3",
   "metadata": {},
   "outputs": [],
   "source": [
    "#CDS sequences downloaded from TAIR\n",
    "dic=defaultdict(str)\n",
    "with open(\"C:/Users/nwntas/Araport11_cds_20220914\") as f:\n",
    "    line='1'\n",
    "    while line:\n",
    "        line=f.readline().strip()\n",
    "        if \">\" in line:\n",
    "            name=line[1:line.index(\"|\")-1]\n",
    "            continue\n",
    "        dic[name]+=line"
   ]
  },
  {
   "cell_type": "code",
   "execution_count": null,
   "id": "17b204dc",
   "metadata": {},
   "outputs": [],
   "source": [
    "cds=dict(dic)\n",
    "cds=dict(filter(lambda x: len(x[1])%3==0 and set(x[1])-{\"A\",'C',\"G\",\"T\"}==set() and \".1\" in x[0] and x[1][:3]==\"ATG\" and len(x[1])>3 and x[1][-3:]in ['TGA','TAA','TAG'], cds.items()))\n",
    "codons=dict(map(lambda x: [x[0],[x[1][i:i+3] for i in range(0,len(x[1]),3)]],cds.items()))"
   ]
  },
  {
   "cell_type": "code",
   "execution_count": null,
   "id": "af51c028",
   "metadata": {},
   "outputs": [],
   "source": [
    "#Protein sequences downloaded from TAIR\n",
    "dic=defaultdict(str)\n",
    "with open(r\"C:\\Users\\nwntas\\Araport11_pep_20220914\") as f:\n",
    "    line='1'\n",
    "    while line:\n",
    "        line=f.readline().strip()\n",
    "        if \">\" in line:\n",
    "            name=line[1:line.index(\"|\")-1]\n",
    "            continue\n",
    "        dic[name]+=line  "
   ]
  },
  {
   "cell_type": "code",
   "execution_count": null,
   "id": "5064159c",
   "metadata": {},
   "outputs": [],
   "source": [
    "proteins=dict(dic)\n",
    "proteins=dict(filter(lambda x: \".1\" in x[0],proteins.items()))\n",
    "proteins=dict(map(lambda x: (x[0][:-2],x[1][:-1]),proteins.items()))"
   ]
  },
  {
   "cell_type": "markdown",
   "id": "72730a67",
   "metadata": {},
   "source": [
    "### Calculations"
   ]
  },
  {
   "cell_type": "code",
   "execution_count": null,
   "id": "14557d46",
   "metadata": {},
   "outputs": [],
   "source": [
    "coRegs_heat=set(coR_Heat[\"Co-regulons\"].dropna().to_list())\n",
    "coRegs_mock=set(coR_Mock[\"Co-regulons\"].dropna().to_list())"
   ]
  },
  {
   "cell_type": "code",
   "execution_count": null,
   "id": "971ab992",
   "metadata": {},
   "outputs": [],
   "source": [
    "mock_enriched=df[df[\"Log ratio mock\"]>1][\"geneID\"].to_list()\n",
    "heat_enriched=df[df[\"Log ratio heat\"]>1][\"geneID\"].to_list()"
   ]
  },
  {
   "cell_type": "code",
   "execution_count": null,
   "id": "ac7a9c35",
   "metadata": {},
   "outputs": [],
   "source": [
    "up_hs=set(df2[(df2[\"30 AP LOGratio\"]>=0.8)|(df2[\"30 PDL LOGratio\"]>=0.8)][\"protein\"].to_list())\n",
    "\n",
    "up_ns=set(df2[(df2[\"22 AP LOGratio\"]>=0.8)|(df2[\"22 PDL LOGratio\"]>=0.8)][\"protein\"].to_list())"
   ]
  },
  {
   "cell_type": "code",
   "execution_count": null,
   "id": "e57b23b4",
   "metadata": {},
   "outputs": [],
   "source": [
    "down_hs=set(df2[(df2[\"30 AP LOGratio\"]<-0.8)|(df2[\"30 PDL LOGratio\"]<-0.8)][\"protein\"].to_list())\n",
    "\n",
    "down_ns=set(df2[(df2[\"22 AP LOGratio\"]<-0.8)|(df2[\"22 PDL LOGratio\"]<-0.8)][\"protein\"].to_list())"
   ]
  },
  {
   "cell_type": "code",
   "execution_count": null,
   "id": "30bee60e",
   "metadata": {},
   "outputs": [],
   "source": [
    "Gen_code={\n",
    "    'Phe': [\"TTT\",\"TTC\"],\n",
    "    'Leu':[\"TTA\",\"TTG\",\"CTT\",\"CTC\",\"CTA\",'CTG'],\n",
    "    'Ile':[\"ATT\",\"ATC\",\"ATA\"],\n",
    "    'Met':[\"ATG\"],\n",
    "    'Val':[\"GTT\",\"GTC\",\"GTA\",\"GTG\"],\n",
    "    'Ser':[\"TCT\",\"TCC\",\"TCA\",'TCG',\"AGT\",'AGC'],\n",
    "    'Pro':[\"CCT\",\"CCC\",\"CCA\",\"CCG\"],\n",
    "    'Thr':['ACT',\"ACC\",\"ACA\",\"ACG\"],\n",
    "    'Ala':[\"GCT\",\"GCC\",\"GCA\",\"GCG\"],\n",
    "    'Tyr':[\"TAT\",\"TAC\"],\n",
    "    'Ter':[\"TAA\",\"TAG\",\"TGA\"],\n",
    "    'His':[\"CAT\",\"CAC\"],\n",
    "    'Gln':[\"CAA\",\"CAG\"],\n",
    "    'Asn':[\"AAT\",\"AAC\"],\n",
    "    'Lys':[\"AAA\",\"AAG\"],\n",
    "    'Asp':[\"GAT\",\"GAC\"],\n",
    "    'Glu':[\"GAA\",\"GAG\"],\n",
    "    'Cys':[\"TGT\",'TGC'],\n",
    "    'Trp':[\"TGG\"],\n",
    "    'Arg':[\"CGT\",\"CGC\",\"CGA\",\"CGG\",\"AGA\",\"AGG\"],\n",
    "    'Gly':['GGT',\"GGC\",\"GGA\",\"GGG\"]\n",
    "}"
   ]
  },
  {
   "cell_type": "code",
   "execution_count": null,
   "id": "ca8455d3",
   "metadata": {},
   "outputs": [],
   "source": [
    "#Based on calculations from \"On the physical basis of the Amino Acid PR\"\n",
    "PYR_density={\n",
    "    'Phe':5.0,\n",
    "    'Leu':4.9,\n",
    "    'Ile':4.9,\n",
    "    'Met':5.3,\n",
    "    'Val':5.6,\n",
    "    'Ser':7.5,\n",
    "    'Pro':6.6,\n",
    "    'Thr':6.6,\n",
    "    'Ala':7.0,\n",
    "    'Tyr':5.4,\n",
    "    'His':8.4,\n",
    "    'Gln':8.6,\n",
    "    'Asn':10.0,\n",
    "    'Lys':10.1,\n",
    "    'Asp':13.0,\n",
    "    'Glu':12.5,\n",
    "    'Cys':4.8,\n",
    "    'Trp':5.2,\n",
    "    'Arg':9.1,\n",
    "    'Gly':7.9\n",
    "}"
   ]
  },
  {
   "cell_type": "code",
   "execution_count": null,
   "id": "468cd8de",
   "metadata": {},
   "outputs": [],
   "source": [
    "#PUR affinity based on calculations from \n",
    "#\"Evidence of direct complementary interactions between messenger RNAs and their cognate proteins\"\n",
    "PUR_density={\n",
    "    'Phe':0.11,\n",
    "    'Leu':0.03,\n",
    "    'Ile':0.05,\n",
    "    'Met':-0.12,\n",
    "    'Val':-0.02,\n",
    "    'Ser':0.04,\n",
    "    'Pro':-0.06,\n",
    "    'Thr':0.03,\n",
    "    'Ala':0.02,\n",
    "    'Tyr':0.09,\n",
    "    'His':0.18,\n",
    "    'Gln':0.04,\n",
    "    'Asn':-0.03,\n",
    "    'Lys':-0.07,\n",
    "    'Asp':-0.01,\n",
    "    'Glu':-0.15,\n",
    "    'Cys':-0.13,\n",
    "    'Trp':-0.16,\n",
    "    'Arg':-0.01,\n",
    "    'Gly':-0.02\n",
    "}"
   ]
  },
  {
   "cell_type": "code",
   "execution_count": null,
   "id": "7ec1567e",
   "metadata": {},
   "outputs": [],
   "source": [
    "amino_translation={\n",
    "    \"A\":\"Ala\",\n",
    "    \"C\":\"Cys\",\n",
    "    \"D\":\"Asp\",\n",
    "    \"E\":\"Glu\",\n",
    "    \"F\":\"Phe\",\n",
    "    \"G\":\"Gly\",\n",
    "    'H':\"His\",\n",
    "    \"I\":\"Ile\",\n",
    "    \"K\":\"Lys\",\n",
    "    \"L\":\"Leu\",\n",
    "    \"M\":\"Met\",\n",
    "    \"N\":\"Asn\",\n",
    "    \"P\":\"Pro\",\n",
    "    \"Q\":\"Gln\",\n",
    "    \"R\":\"Arg\",\n",
    "    \"S\":\"Ser\",\n",
    "    \"T\":'Thr',\n",
    "    \"V\":\"Val\",\n",
    "    \"W\":\"Trp\",\n",
    "    \"Y\":\"Tyr\"\n",
    "}"
   ]
  },
  {
   "cell_type": "code",
   "execution_count": null,
   "id": "8d2e40af",
   "metadata": {},
   "outputs": [],
   "source": [
    "#This is basically the master function for offseting\n",
    "def offsetting(seq,prot_seq,offset=0):\n",
    "    codons_new=[cds[seq+\".1\"][k+offset:offset+k+3] for k in range(0,len(cds[seq+\".1\"][offset:]),3) if len(cds[seq+\".1\"][offset:])-3>k]\n",
    "    offset_list= list(zip(map(lambda x: amino_translation[x],proteins[prot_seq]),codons_new))\n",
    "    return [np.mean(list(map(lambda x: (PYR_density[x[0]],(x[1].count(\"C\")+x[1].count(\"T\"))/3),offset_list[i:i+21])),axis=0) for i in range(len(offset_list)) if len(offset_list)-21>i]"
   ]
  },
  {
   "cell_type": "markdown",
   "id": "279cdb83",
   "metadata": {},
   "source": [
    "### Generating plots"
   ]
  },
  {
   "cell_type": "code",
   "execution_count": null,
   "id": "ea263071",
   "metadata": {},
   "outputs": [],
   "source": [
    "def generate_plot(gene,location=1,save=False):\n",
    "    density=[k for k,v in offsetting(gene,gene)]\n",
    "    content=[v for k,v in offsetting(gene,gene)]\n",
    "\n",
    "    gs=gridspec.GridSpec(2,1,height_ratios=[4,1])\n",
    "    ax=plt.subplot(gs[0,0])\n",
    "    line1, = ax.plot(list(range(len(content))),content)\n",
    "    ax.set_ylabel(\"mRNA PYR density\")\n",
    "    ax.set_yticks(np.arange(0.2,1,0.2))\n",
    "    ax_new = ax.twinx()\n",
    "    line2, = ax_new.plot(list(range(len(density))),density,color=\"orange\")\n",
    "    ax_new.invert_yaxis()\n",
    "    #ax_new.set_yticks(np.arange(5,10.5,1.5))\n",
    "    ax_new.set_ylabel(\"Protein PYR affinity\")\n",
    "\n",
    "    lines=[line1,line2]\n",
    "    labels=[\"mRNA\",\"Protein\"]\n",
    "    plt.legend(handles=lines,labels=labels,loc=location)\n",
    "    ax.set_title(f\"{gene} | pearson's R:%.3f\"%pearsonr(density,content)[0])\n",
    "\n",
    "    ax1=plt.subplot(gs[1,0])\n",
    "    norm_density=list(map(lambda x: 1-(x-min(density))/(max(density)-min(density)),density))\n",
    "    norm_content=list(map(lambda x: (x-min(content))/(max(content)-min(content)),content))\n",
    "    similarity_score=np.abs(np.array(norm_density)-np.array(norm_content))\n",
    "\n",
    "    sns.lineplot(x=range(len(similarity_score)),y=similarity_score)\n",
    "    ax1.set_ylim([0,0.7])\n",
    "    ax1.set_ylabel(\"Absolute Distance\")\n",
    "    ax1.set_xlabel(\"Sequence bins\")\n",
    "\n",
    "    if save:\n",
    "        plt.savefig(f\"{gene}_cognate.tiff\",dpi=600)"
   ]
  },
  {
   "cell_type": "code",
   "execution_count": null,
   "id": "7f014194",
   "metadata": {},
   "outputs": [],
   "source": [
    "#Example of plot// To save change False to True\n",
    "generate_plot(\"AT1G78080\",location=4,save=False)"
   ]
  },
  {
   "cell_type": "code",
   "execution_count": null,
   "id": "936acebd",
   "metadata": {},
   "outputs": [],
   "source": [
    "#Here either mock_enriched or coRegs_mock may be used\n",
    "l=[]\n",
    "for coReg in mock_enriched:\n",
    "    try:\n",
    "        density=[k for k,v in offsettings(coReg,coReg)]\n",
    "        content=[v for k,v in offsettings(coReg,coReg)]\n",
    "        l+=[pearsonr(content,density)[0]]\n",
    "    except KeyError:\n",
    "        continue"
   ]
  },
  {
   "cell_type": "code",
   "execution_count": null,
   "id": "89f6c7fb",
   "metadata": {},
   "outputs": [],
   "source": [
    "#Here either heat_enriched or coRegs_heat may be used\n",
    "l1=[]\n",
    "for coReg in heat_enriched:\n",
    "    try:\n",
    "        density=[k for k,v in offsettings(coReg,coReg)]\n",
    "        content=[v for k,v in offsettings(coReg,coReg)]\n",
    "        l1+=[pearsonr(content,density)[0]]\n",
    "    except KeyError:\n",
    "        continue"
   ]
  },
  {
   "cell_type": "code",
   "execution_count": null,
   "id": "f1f3890b",
   "metadata": {},
   "outputs": [],
   "source": [
    "#Either l or l1 may be used\n",
    "fig, ax=plt.subplots()\n",
    "sns.histplot(l)\n",
    "ax.set_xlabel(\"Pearson's R correlation\")\n",
    "ax.set_title(\"PYR content/ PYR density\\nCo-Regulons NS\")"
   ]
  },
  {
   "cell_type": "code",
   "execution_count": null,
   "id": "fda7b62e",
   "metadata": {},
   "outputs": [],
   "source": [
    "def PUR_PR(x):\n",
    "    return [sum(list(map(lambda y: PUR_density[amino_translation[y]],proteins[x][i:i+21])))/21 for i in range(len(proteins[x])) if len(proteins[x])-21>i]"
   ]
  },
  {
   "cell_type": "code",
   "execution_count": null,
   "id": "63888ecd",
   "metadata": {},
   "outputs": [],
   "source": [
    "#In this cell up_hs may be changed with down_hs\n",
    "ph=[]\n",
    "for i in up_hs:\n",
    "    try:\n",
    "        nh+=[PUR_PR(i)]\n",
    "    except KeyError:\n",
    "        print(i)\n",
    "        continue"
   ]
  },
  {
   "cell_type": "code",
   "execution_count": null,
   "id": "b5d68365",
   "metadata": {},
   "outputs": [],
   "source": [
    "#In this cell up_hs may be changed with down_ns\n",
    "nh=[]\n",
    "for i in up_ns:\n",
    "    try:\n",
    "        nh+=[PUR_PR(i)]\n",
    "    except KeyError:\n",
    "        print(i)\n",
    "        continue"
   ]
  },
  {
   "cell_type": "code",
   "execution_count": null,
   "id": "ec01cef9",
   "metadata": {},
   "outputs": [],
   "source": [
    "a=np.concatenate(ph)\n",
    "b=np.concatenate(nh)"
   ]
  },
  {
   "cell_type": "code",
   "execution_count": null,
   "id": "e27473fa",
   "metadata": {},
   "outputs": [],
   "source": [
    "ps=list(map(lambda x: \"ns\"if x>=0.05 else \"$\"+f\"{x:.2e}\"f\"{x}\"[:f\"{x:.2e}\".index(\"-\")].replace(\"e\",\"\\cdot10^{%s}\"%f\"{x:.2e}\"[f\"{x:.2e}\".index(\"-\"):])+\"$\",[stats.mannwhitneyu(a,b)[1]]))"
   ]
  },
  {
   "cell_type": "code",
   "execution_count": null,
   "id": "d4fd70a2",
   "metadata": {},
   "outputs": [],
   "source": [
    "fig, ax=plt.subplots(figsize=(10,5))\n",
    "sns.set_style(\"white\")\n",
    "sns.histplot([a,b],bins=50,kde=True,palette=[\"#87CEEB\",\"#FFA500\"])\n",
    "ax.legend(labels=['Heat',\"Mock\"][::-1],loc=2)\n",
    "ax.set_title('Heat/Mock')\n",
    "ax.set_xlabel(\"bin PUR affinity score\")\n",
    "ax_sub=fig.add_axes([0.66, 0.4,0.2,0.3])\n",
    "ax.axvline(np.median(a),color=\"#87CEEB\",linestyle=\"--\")\n",
    "ax.axvline(np.median(b),color=\"#FFA500\",linestyle=\"--\")\n",
    "\n",
    "#ax.set_ylim([1,44000])\n",
    "sns.set_style(\"whitegrid\")\n",
    "sec=sns.boxplot(data=[a,b], \n",
    "            showfliers=False,palette=[\"#87CEEB\",\"#FFA500\"])\n",
    "\n",
    "ax_sub.set_xticklabels(['Heat',\"Mock\"])\n",
    "\n",
    "add_stat_annotation(ax=sec,x=['Heat',\"Mock\"],\n",
    "                                           y=[np.median(a),np.median(b)],\n",
    "                                           box_pairs=[('Heat',\"Mock\")],\n",
    "                                           pvalues=[stats.mannwhitneyu(a,b)[1]],\n",
    "                                           text_format=\"simple\",\n",
    "                                           text_annot_custom=ps,\n",
    "                                           loc=\"inside\",\n",
    "                                           verbose=1,\n",
    "                                           perform_stat_test=False,\n",
    "                                           line_offset_to_box=0.8)\n",
    "\n",
    "#plt.savefig(\"name.tiff\", dpi=600)"
   ]
  }
 ],
 "metadata": {
  "kernelspec": {
   "display_name": "Python 3 (ipykernel)",
   "language": "python",
   "name": "python3"
  },
  "language_info": {
   "codemirror_mode": {
    "name": "ipython",
    "version": 3
   },
   "file_extension": ".py",
   "mimetype": "text/x-python",
   "name": "python",
   "nbconvert_exporter": "python",
   "pygments_lexer": "ipython3",
   "version": "3.9.16"
  }
 },
 "nbformat": 4,
 "nbformat_minor": 5
}
