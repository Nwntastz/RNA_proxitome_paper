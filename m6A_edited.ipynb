{
 "cells": [
  {
   "cell_type": "code",
   "execution_count": null,
   "id": "db52a10d",
   "metadata": {},
   "outputs": [],
   "source": [
    "import pandas as pd\n",
    "import re\n",
    "from collections import defaultdict\n",
    "import pandas.pyplot as plt\n",
    "import seaborn as sns"
   ]
  },
  {
   "cell_type": "markdown",
   "id": "ff5c3ec4",
   "metadata": {},
   "source": [
    "### Import of Data"
   ]
  },
  {
   "cell_type": "code",
   "execution_count": null,
   "id": "47d86b73",
   "metadata": {},
   "outputs": [],
   "source": [
    "df=pd.read_excel(\"C:/.../Enriched transcripts.xlsx\", skiprows=[0])"
   ]
  },
  {
   "cell_type": "code",
   "execution_count": null,
   "id": "469d8cbe",
   "metadata": {},
   "outputs": [],
   "source": [
    "with open(\"C:/.../TAIR10_cds_20101214_updated\") as f:\n",
    "    headers=[line for line in f if \">\" in line]"
   ]
  },
  {
   "cell_type": "code",
   "execution_count": null,
   "id": "4f3d9142",
   "metadata": {},
   "outputs": [],
   "source": [
    "cds=[bed(i) for i in headers]\n",
    "cds=list(filter(lambda x:x!=None,cds))\n",
    "\n",
    "cds_lims={i[3]:[i[1],i[2]]for i in cds}"
   ]
  },
  {
   "cell_type": "code",
   "execution_count": null,
   "id": "20cfeabe",
   "metadata": {},
   "outputs": [],
   "source": [
    "with open(\"C:/.../TAIR10_cdna_20101214_updated\") as f:\n",
    "    seqs=[line.strip() for line in f if \">\" in line]"
   ]
  },
  {
   "cell_type": "code",
   "execution_count": null,
   "id": "2097b5f8",
   "metadata": {},
   "outputs": [],
   "source": [
    "def bed(seq):\n",
    "    m=re.findall(r\"([ATM]{2}\\dG\\d{5}\\.\\d+)|(chr\\d)\\:(\\d+)-(\\d+)|(REVERSE)|(FORWARD)\",seq)\n",
    "    data=list(map(lambda x: list(filter(lambda y: y!=\"\", x)), m))\n",
    "    if len(data)==3:\n",
    "        data=list(map(lambda x: \"+\" if x[0]==\"FORWARD\" else (\"-\" if x[0]==\"REVERSE\" else x),data))\n",
    "        return [f\"{'C'+data[1][0][1:]}\",int(data[1][1]),int(data[1][2]),data[0][0],data[2]]"
   ]
  },
  {
   "cell_type": "code",
   "execution_count": null,
   "id": "2363fd44",
   "metadata": {},
   "outputs": [],
   "source": [
    "beds=[bed(i) for i in seqs]\n",
    "beds=list(filter(lambda x:x!=None,beds))"
   ]
  },
  {
   "cell_type": "code",
   "execution_count": null,
   "id": "0fe5761c",
   "metadata": {},
   "outputs": [],
   "source": [
    "filt=list(filter(lambda x: x[3][:-2] in df[df[\"Log ratio mock\"]>1][\"geneID\"].to_list(), beds))\n",
    "\n",
    "filt_heat=list(filter(lambda x: x[3][:-2] in df[df[\"Log ratio heat\"]>1][\"geneID\"].to_list(), beds))"
   ]
  },
  {
   "cell_type": "markdown",
   "id": "311fd970",
   "metadata": {},
   "source": [
    "### m6A site identification"
   ]
  },
  {
   "cell_type": "code",
   "execution_count": null,
   "id": "297287d1",
   "metadata": {},
   "outputs": [],
   "source": [
    "vir1_VIRc_df=pd.read_table(r\"C:\\...\\elife-49658-fig5-data1-v1.tds\")"
   ]
  },
  {
   "cell_type": "code",
   "execution_count": null,
   "id": "09437510",
   "metadata": {},
   "outputs": [],
   "source": [
    "#Same code used twice// Once with filt and another time with filt_heat\n",
    "#Used to find the location of the m6A sites in PB-enriched genes\n",
    "ls=[]\n",
    "def find_enriched(row):\n",
    "    global ls\n",
    "    choices=list(filter(lambda x: int(row[0])==int(x[0][-1:]) and row[5]==x[4],filt))\n",
    "    if choices:\n",
    "        for choice in choices:\n",
    "            if choice[1]<=row[1] and row[2]<=choice[2]:\n",
    "                ls+=[{\"Gene\":choice[3],\"#chr\":row[0],\"start\":row[1],\"end\":row[2],\"score\":row[4],\"strand\":row[5],\"LogFC\":row[6]}]\n",
    "    else:\n",
    "        print(\":(\")\n",
    "\n",
    "vir1_VIRc_df.apply(lambda x: find_enriched(x),axis=1)"
   ]
  },
  {
   "cell_type": "code",
   "execution_count": null,
   "id": "4d17f024",
   "metadata": {},
   "outputs": [],
   "source": [
    "enriched_sites=pd.DataFrame.from_records(ls)\n",
    "\n",
    "enriched_sites=enriched_sites[enriched_sites[\"Gene\"].str.contains(\".1\",regex=False)]"
   ]
  },
  {
   "cell_type": "code",
   "execution_count": null,
   "id": "75281b3b",
   "metadata": {},
   "outputs": [],
   "source": [
    "heat_enriched_sites=pd.DataFrame.from_records(ls)\n",
    "\n",
    "heat_enriched_sites=heat_enriched_sites[heat_enriched_sites[\"Gene\"].str.contains(\".1\",regex=False)]"
   ]
  },
  {
   "cell_type": "code",
   "execution_count": null,
   "id": "3feab60f",
   "metadata": {},
   "outputs": [],
   "source": [
    "#Used twice to find where the m6A sites are  \n",
    "ls=[]\n",
    "def find_where(row):\n",
    "    global ls\n",
    "    choices=list(filter(lambda x: row[0]==x[0],cds_lims.items()))\n",
    "    if choices:\n",
    "        for choice in choices:\n",
    "            if row[5]==\"+\":\n",
    "                if row[3]<choice[1][0]:\n",
    "                    ls+=[\"5' UTR\"]\n",
    "                elif choice[1][0]<row[2]<choice[1][1] and  choice[1][0]<row[3]<choice[1][1]:\n",
    "                    ls+=['CDS']\n",
    "                else:\n",
    "                    ls+=[\"3' UTR\"]\n",
    "\n",
    "            if row[5]==\"-\":\n",
    "                if row[2]>choice[1][1]:\n",
    "                    ls+=[\"5' UTR\"]\n",
    "                elif choice[1][0]<row[2]<choice[1][1] and  choice[1][0]<row[3]<choice[1][1]:\n",
    "                    ls+=['CDS']\n",
    "                else:\n",
    "                    ls+=[\"3' UTR\"]\n",
    "    else:\n",
    "        print(row[0])"
   ]
  },
  {
   "cell_type": "code",
   "execution_count": null,
   "id": "392c798f",
   "metadata": {},
   "outputs": [],
   "source": [
    "enriched_sites[enriched_sites[\"LogFC\"]>1].apply(lambda x: find_where(x),axis=1)\n",
    "\n",
    "heat_enriched_sites[heat_enriched_sites[\"LogFC\"]>1].apply(lambda x: find_where(x),axis=1)"
   ]
  },
  {
   "cell_type": "markdown",
   "id": "383684e5",
   "metadata": {},
   "source": [
    "### Differential gene expression"
   ]
  },
  {
   "cell_type": "code",
   "execution_count": null,
   "id": "45682d3e",
   "metadata": {},
   "outputs": [],
   "source": [
    "vir_diff=pd.read_excel(r\"C:\\...\\elife-49658-fig6-data1-v1.xlsx\")\n",
    "vir_diff[\"gene_id\"]=vir_diff[\"gene_id\"].apply(lambda x: x+\".1\")"
   ]
  },
  {
   "cell_type": "code",
   "execution_count": null,
   "id": "61088836",
   "metadata": {},
   "outputs": [],
   "source": [
    "not_menr=set(map(lambda x: x+\".1\",df[(df[\"Log ratio mock\"]>1)][\"geneID\"].to_list()))-set(enriched_sites[\"Gene\"])\n",
    "\n",
    "not_henr=set(map(lambda x: x+\".1\",df[(df[\"Log ratio heat\"]>1)][\"geneID\"].to_list()))-set(heat_enriched_sites[\"Gene\"])"
   ]
  },
  {
   "cell_type": "code",
   "execution_count": null,
   "id": "2df9b03f",
   "metadata": {},
   "outputs": [],
   "source": [
    "m6a_yes=vir_diff[vir_diff[\"gene_id\"].isin(enriched_sites[\"Gene\"].to_list())][\"logFC\"].to_list()\n",
    "\n",
    "m6a_no=vir_diff[vir_diff[\"gene_id\"].isin(not_menr)][\"logFC\"].to_list()\n",
    "\n",
    "\n",
    "\n",
    "m6a_yes_h=vir_diff[vir_diff[\"gene_id\"].isin(heat_enriched_sites[\"Gene\"].to_list())&(vir_diff[\"FDR\"]<0.05)][\"logFC\"].to_list()\n",
    "\n",
    "m6a_no_h=vir_diff[vir_diff[\"gene_id\"].isin(not_henr)&(vir_diff[\"FDR\"]<0.05)][\"logFC\"].to_list()"
   ]
  },
  {
   "cell_type": "code",
   "execution_count": null,
   "id": "aad8dc76",
   "metadata": {},
   "outputs": [],
   "source": [
    "fig, ax=plt.subplots()\n",
    "sns.kdeplot(m6a_yes_h,fill=True)\n",
    "sns.kdeplot(m6a_no_h,fill=True)\n",
    "\n",
    "ax.legend(labels=[\"Genes with error sites\",\"Genes with no error sites\"])\n",
    "ax.set_xlabel(\"vir1/VIRc LogFC\")\n",
    "ax.set_title(\"Heat PB-in\")\n",
    "\n",
    "#ax.set_xlim(-2.5, 2.5)\n",
    "#plt.savefig(\"name.tiff\", dpi=600)"
   ]
  }
 ],
 "metadata": {
  "kernelspec": {
   "display_name": "Python 3 (ipykernel)",
   "language": "python",
   "name": "python3"
  },
  "language_info": {
   "codemirror_mode": {
    "name": "ipython",
    "version": 3
   },
   "file_extension": ".py",
   "mimetype": "text/x-python",
   "name": "python",
   "nbconvert_exporter": "python",
   "pygments_lexer": "ipython3",
   "version": "3.9.16"
  }
 },
 "nbformat": 4,
 "nbformat_minor": 5
}
