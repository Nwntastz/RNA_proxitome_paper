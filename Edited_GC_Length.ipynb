{
 "cells": [
  {
   "cell_type": "code",
   "execution_count": null,
   "id": "b3a9f352",
   "metadata": {},
   "outputs": [],
   "source": [
    "import pandas as pd\n",
    "import matplotlib.pyplot as plt\n",
    "import numpy as np\n",
    "import seaborn as sns\n",
    "from scipy.stats import stats\n",
    "from statannot import add_stat_annotation\n",
    "from Bio.SeqUtils import GC"
   ]
  },
  {
   "cell_type": "markdown",
   "id": "d8ec74a4",
   "metadata": {},
   "source": [
    "## Import of Data"
   ]
  },
  {
   "cell_type": "code",
   "execution_count": null,
   "id": "d4f93b98",
   "metadata": {},
   "outputs": [],
   "source": [
    "#Import of RIP-seq data \n",
    "df=pd.read_excel(r\"C:\\...\\Enriched transcripts.xlsx\",header=[1])"
   ]
  },
  {
   "cell_type": "code",
   "execution_count": null,
   "id": "4ea443a6",
   "metadata": {},
   "outputs": [],
   "source": [
    "df2=pd.read_excel(r\"C:\\...\\co_regulons.xlsx\", sheet_name=\"NS APEAL RIP up 0.8\")\n",
    "coRegs_mock=list(df2['Co-regulons'].dropna().unique())"
   ]
  },
  {
   "cell_type": "code",
   "execution_count": null,
   "id": "9e1b38c0",
   "metadata": {},
   "outputs": [],
   "source": [
    "df2=pd.read_excel(r\"C:\\...\\co_regulons.xlsx\", sheet_name=\"HS APEAL RIP up 0.8\")\n",
    "coRegs_heat=list(df2['Co-regulons'].dropna().unique())"
   ]
  },
  {
   "cell_type": "code",
   "execution_count": null,
   "id": "e3f01f6d",
   "metadata": {},
   "outputs": [],
   "source": [
    "#Import of 5' UTR sequences downloaded from TAIR\n",
    "#Code block may be used to import 3' UTR and CDS sequences \n",
    "from collections import defaultdict\n",
    "\n",
    "dic=defaultdict(str)\n",
    "with open(r\"C:\\...\\Araport11_5_utr_20220504\") as f:\n",
    "    line='1'\n",
    "    while line:\n",
    "        line=f.readline().strip()\n",
    "        if \">\" in line:\n",
    "            name=line[1:line.index(\"|\")-1]\n",
    "            continue\n",
    "        dic[name]+=line  \n",
    "\n",
    "UTR5=dict(dic)\n",
    "UTR5=dict(map(lambda x: (x[0][:-2],x[1]),filter(lambda x: \".1\" in x[0],UTR5.items())))"
   ]
  },
  {
   "cell_type": "markdown",
   "id": "99985e31",
   "metadata": {},
   "source": [
    "## Data generation for plots"
   ]
  },
  {
   "cell_type": "code",
   "execution_count": null,
   "id": "d6c80f2f",
   "metadata": {},
   "outputs": [],
   "source": [
    "#Getting the LogFC in mock conditions for the whole transcriptome\n",
    "ids=df[\"geneID\"].to_list()\n",
    "mock_LogFC=df[\"Log ratio mock\"].to_list()\n",
    "\n",
    "LogFC=dict(zip(ids,mock_LogFC))"
   ]
  },
  {
   "cell_type": "code",
   "execution_count": null,
   "id": "b5666d48",
   "metadata": {},
   "outputs": [],
   "source": [
    "#Getting the LogFC in heat conditions for the whole transcriptome //To be used instead of above code block for heat\n",
    "ids=df[\"geneID\"].to_list()\n",
    "heat_LogFC=df[\"Log ratio heat\"].to_list()\n",
    "\n",
    "LogFC=dict(zip(ids,heat_LogFC))"
   ]
  },
  {
   "cell_type": "code",
   "execution_count": null,
   "id": "4af1cf93",
   "metadata": {},
   "outputs": [],
   "source": [
    "#Subset of genes enriched in PBs based on LogFC cutoff in mock conditions\n",
    "mock_genes=df[df[\"Log ratio mock\"]>1][\"geneID\"].to_list()\n",
    "\n",
    "#Calculation of GC% for mRNAs enriched in PBs// To calculate Length use len() instead\n",
    "mock_enriched=dict(map(lambda x: (x, GC(UTR5[x])), filter(lambda x: x in UTR5.keys(),mock_genes)))"
   ]
  },
  {
   "cell_type": "code",
   "execution_count": null,
   "id": "f0a77847",
   "metadata": {},
   "outputs": [],
   "source": [
    "#Subset of genes enriched in PBs based on LogFC cutoff in heat conditions\n",
    "heat_genes=df[df[\"Log ratio heat\"]>1][\"geneID\"].to_list()\n",
    "\n",
    "#Calculation of GC% for mRNAs enriched in PBs// To calculate Length use len() instead\n",
    "heat_enriched=dict(map(lambda x: (x, GC(UTR5[x])), filter(lambda x: x in UTR5.keys(),heat_genes)))"
   ]
  },
  {
   "cell_type": "code",
   "execution_count": null,
   "id": "b2e2d44a",
   "metadata": {},
   "outputs": [],
   "source": [
    "#Calculation of GC% for all mRNAs in transcriptome\n",
    "all_genes=dict(map(lambda x: (x, GC(UTR5[x])), filter(lambda x: x in UTR5.keys(),df[\"geneID\"].to_list())))"
   ]
  },
  {
   "cell_type": "code",
   "execution_count": null,
   "id": "effe6eab",
   "metadata": {},
   "outputs": [],
   "source": [
    "#Calculation of GC% for coRegulon mRNAs enriched in PBs// To calculate Length use len() instead\n",
    "CoRegs_mock=dict(map(lambda x: (x, GC(UTR5[x])), filter(lambda x: x in UTR5.keys(),coRegs_mock)))"
   ]
  },
  {
   "cell_type": "code",
   "execution_count": null,
   "id": "821b3f55",
   "metadata": {},
   "outputs": [],
   "source": [
    "#Calculation of GC% for coRegulon mRNAs enriched in PBs// To calculate Length use len() instead\n",
    "CoRegs_heat=dict(map(lambda x: (x, GC(UTR5[x])), filter(lambda x: x in UTR5.keys(),coRegs_heat)))"
   ]
  },
  {
   "cell_type": "markdown",
   "id": "4b4efa9c",
   "metadata": {},
   "source": [
    "## Binning of Data"
   ]
  },
  {
   "cell_type": "code",
   "execution_count": null,
   "id": "94d1d709",
   "metadata": {},
   "outputs": [],
   "source": [
    "#A single function that bins an input dictionary of sequences either based on GC% or Sequence Length\n",
    "\n",
    "def binning(inputs,category=\"CDS\"):\n",
    "    bins=defaultdict(list)\n",
    "    \n",
    "    if category=='CDS':\n",
    "        \n",
    "        for i in range(40,48,2):\n",
    "            if i==40:\n",
    "                bins[\"<42\"]=list(map(lambda y:LogFC[y[0]],filter(lambda x: x[1]<42,inputs.items())))\n",
    "                continue\n",
    "            if i==46:\n",
    "                bins[\"46<\"]=list(map(lambda y:LogFC[y[0]],filter(lambda x: 46<=x[1],inputs.items())))\n",
    "                continue\n",
    "            bins[f\"{i}-{i+2}\"]=list(map(lambda y:LogFC[y[0]],filter(lambda x: i<=x[1]<i+2,inputs.items())))\n",
    "        return bins\n",
    "    \n",
    "    if category=='UTR_5':\n",
    "        \n",
    "        for i in range(30,50,5):\n",
    "            if i==30:\n",
    "                bins[\"<35\"]=list(map(lambda y:LogFC[y[0]],filter(lambda x: x[1]<35,inputs.items())))\n",
    "                continue\n",
    "            if i==45:\n",
    "                bins[\"45<\"]=list(map(lambda y:LogFC[y[0]],filter(lambda x: 45<=x[1],inputs.items())))\n",
    "                continue\n",
    "            bins[f\"{i}-{i+5}\"]=list(map(lambda y:LogFC[y[0]],filter(lambda x: i<=x[1]<i+5,inputs.items())))\n",
    "        return bins\n",
    "    \n",
    "    if category=='UTR_3':\n",
    "        \n",
    "        for i in range(25,45,5):\n",
    "            if i==25:\n",
    "                bins[\"<30\"]=list(map(lambda y:LogFC[y[0]],filter(lambda x: x[1]<30,inputs.items())))\n",
    "                continue\n",
    "            if i==40:\n",
    "                bins[\"40<\"]=list(map(lambda y:LogFC[y[0]],filter(lambda x: 40<=x[1],inputs.items())))\n",
    "                continue\n",
    "            bins[f\"{i}-{i+5}\"]=list(map(lambda y:LogFC[y[0]],filter(lambda x: i<=x[1]<i+5,inputs.items())))\n",
    "        return bins\n",
    "    \n",
    "    if category=='CDS_len':\n",
    "        \n",
    "        for i in range(0,3200,800):\n",
    "            if i==0:\n",
    "                bins[\"<800\"]=list(map(lambda y:LogFC[y[0]],filter(lambda x: x[1]<800,inputs.items())))\n",
    "                continue\n",
    "            if i==2400:\n",
    "                bins[\"2400<\"]=list(map(lambda y:LogFC[y[0]],filter(lambda x: 2400<=x[1],inputs.items())))\n",
    "                continue\n",
    "            bins[f\"{i}-{i+800}\"]=list(map(lambda y:LogFC[y[0]],filter(lambda x: i<=x[1]<i+800,inputs.items())))\n",
    "        return bins\n",
    "    \n",
    "    if category=='UTR_5_len':\n",
    "        \n",
    "        for i in range(0,400,100):\n",
    "            if i==0:\n",
    "                bins[\"<100\"]=list(map(lambda y:LogFC[y[0]],filter(lambda x: x[1]<100,inputs.items())))\n",
    "                continue\n",
    "            if i==300:\n",
    "                bins[\"300<\"]=list(map(lambda y:LogFC[y[0]],filter(lambda x: 300<=x[1],inputs.items())))\n",
    "                continue\n",
    "            bins[f\"{i}-{i+100}\"]=list(map(lambda y:LogFC[y[0]],filter(lambda x: i<=x[1]<i+100,inputs.items())))\n",
    "        return bins\n",
    "    \n",
    "    if category=='UTR_3_len':\n",
    "        \n",
    "        for i in range(0,600,150):\n",
    "            if i==0:\n",
    "                bins[\"<150\"]=list(map(lambda y:LogFC[y[0]],filter(lambda x: x[1]<150,inputs.items())))\n",
    "                continue\n",
    "            if i==450:\n",
    "                bins[\"450<\"]=list(map(lambda y:LogFC[y[0]],filter(lambda x: 450<=x[1],inputs.items())))\n",
    "                continue\n",
    "            bins[f\"{i}-{i+150}\"]=list(map(lambda y:LogFC[y[0]],filter(lambda x: i<=x[1]<i+150,inputs.items())))\n",
    "        return bins\n",
    "    \n",
    "    if category=='CDS_coRegs':\n",
    "        \n",
    "        for i in range(42,48,2):\n",
    "            if i==42:\n",
    "                bins[\"<44\"]=list(map(lambda y:LogFC[y[0]],filter(lambda x: x[1]<44,inputs.items())))\n",
    "                continue\n",
    "            if i==46:\n",
    "                bins[\"46<\"]=list(map(lambda y:LogFC[y[0]],filter(lambda x: 46<=x[1],inputs.items())))\n",
    "                continue\n",
    "            bins[f\"{i}-{i+2}\"]=list(map(lambda y:LogFC[y[0]],filter(lambda x: i<=x[1]<i+2,inputs.items())))\n",
    "        return bins\n",
    "    \n",
    "    if category=='UTR_5_coRegs':\n",
    "        \n",
    "        for i in range(30,45,5):\n",
    "            if i==30:\n",
    "                bins[\"<35\"]=list(map(lambda y:LogFC[y[0]],filter(lambda x: x[1]<35,inputs.items())))\n",
    "                continue\n",
    "            if i==40:\n",
    "                bins[\"40<\"]=list(map(lambda y:LogFC[y[0]],filter(lambda x: 40<=x[1],inputs.items())))\n",
    "                continue\n",
    "            bins[f\"{i}-{i+5}\"]=list(map(lambda y:LogFC[y[0]],filter(lambda x: i<=x[1]<i+5,inputs.items())))\n",
    "        return bins\n",
    "    \n",
    "    if category=='UTR_3_coRegs':\n",
    "        \n",
    "        for i in range(25,40,5):\n",
    "            if i==25:\n",
    "                bins[\"<30\"]=list(map(lambda y:LogFC[y[0]],filter(lambda x: x[1]<30,inputs.items())))\n",
    "                continue\n",
    "            if i==35:\n",
    "                bins[\"35<\"]=list(map(lambda y:LogFC[y[0]],filter(lambda x: 35<=x[1],inputs.items())))\n",
    "                continue\n",
    "            bins[f\"{i}-{i+5}\"]=list(map(lambda y:LogFC[y[0]],filter(lambda x: i<=x[1]<i+5,inputs.items())))\n",
    "        return bins"
   ]
  },
  {
   "cell_type": "code",
   "execution_count": null,
   "id": "40d905e5",
   "metadata": {},
   "outputs": [],
   "source": [
    "#Example of binning PB-enriched transcripts based on 5' UTR GC% // Could be used for other types of binning\n",
    "binned=binning(inputs=mock_enriched,category=\"UTR_5\")"
   ]
  },
  {
   "cell_type": "markdown",
   "id": "8d834bcd",
   "metadata": {},
   "source": [
    "## Statistical Analysis"
   ]
  },
  {
   "cell_type": "code",
   "execution_count": null,
   "id": "12a73571",
   "metadata": {},
   "outputs": [],
   "source": [
    "#Non-parametric ANOVA to check median differences across bins before using a post-hoc test\n",
    "stats.kruskal(binned[\"<35\"],binned[\"35-40\"],binned[\"40-45\"],binned[\"45<\"])"
   ]
  },
  {
   "cell_type": "code",
   "execution_count": null,
   "id": "bd8cf432",
   "metadata": {},
   "outputs": [],
   "source": [
    "#Dunn's test to find significant pairwise differences in median values\n",
    "import scikit_posthocs as sp\n",
    "\n",
    "results=np.triu(sp.posthoc_dunn(list(binned.values()), p_adjust = 'bonferroni'),1)\n",
    "indices=np.nonzero(results)\n",
    "p_vals=results[indices].tolist()"
   ]
  },
  {
   "cell_type": "code",
   "execution_count": null,
   "id": "adcc3b80",
   "metadata": {},
   "outputs": [],
   "source": [
    "#Custom Dunn's p-value text annotations // Values greater than 0.05 appear as ns\n",
    "custom_text=list(map(lambda x: \"ns\"if x>=0.05 else \"$\"+f\"{x:.2e}\"f\"{x}\"[:f\"{x:.2e}\".index(\"-\")].replace(\"e\",\"\\cdot10^{%s}\"%f\"{x:.2e}\"[f\"{x:.2e}\".index(\"-\"):])+\"$\",p_vals))"
   ]
  },
  {
   "cell_type": "markdown",
   "id": "8e2c5068",
   "metadata": {},
   "source": [
    "## Data Visualization"
   ]
  },
  {
   "cell_type": "code",
   "execution_count": null,
   "id": "defd29b7",
   "metadata": {},
   "outputs": [],
   "source": [
    "#Restricting stripplot points to a specific range, so that outliers do not affect y range valuee.\n",
    "points={k:list(filter(lambda x: -3<=x<=4,v))for k,v in binned.items()}"
   ]
  },
  {
   "cell_type": "code",
   "execution_count": null,
   "id": "77316684",
   "metadata": {},
   "outputs": [],
   "source": [
    "#Template for figure generation\n",
    "from matplotlib import gridspec\n",
    "\n",
    "gs=gridspec.GridSpec(2,1,height_ratios=[4,1])\n",
    "\n",
    "ax0=plt.subplot(gs[0,0])\n",
    "sns.set_style(\"whitegrid\")\n",
    "\n",
    "PROPS = {\n",
    "    'boxprops':{'facecolor':'#d0d9dd', 'edgecolor':(0,0,0,0.7)},\n",
    "    'medianprops':{'color':'k'},\n",
    "    'whiskerprops':{'color':'k'},\n",
    "    'capprops':{'color':'k'}\n",
    "}\n",
    "\n",
    "sns.boxplot(data=list(binned.values()),showfliers=False,**PROPS)\n",
    "sns.stripplot(data=list(points.values()),alpha=.8,color=\"#020202\",linewidth=0.1,dodge=True,jitter=True,size=5)\n",
    "\n",
    "test_results=add_stat_annotation(ax=ax0,x=list(binned.keys()),\n",
    "                                           y=list(map(lambda x: np.median(x),binned.values())),\n",
    "                                           box_pairs=list(combinations(list(binned.keys()),2)),\n",
    "                                           pvalues=p_vals,\n",
    "                                           text_annot_custom=custom_text,\n",
    "                                           text_format=\"simple\",\n",
    "                                           loc=\"inside\",\n",
    "                                           verbose=1,\n",
    "                                           perform_stat_test=False,\n",
    "                                           line_offset_to_box=0.58,\n",
    "                                           line_height=0.005,\n",
    "                                           line_offset=0.08)\n",
    "ax0.set_xticklabels(list(binned.keys()))\n",
    "ax0.set_ylim([0,4])\n",
    "ax0.set_title(\"5' UTR mock\")\n",
    "ax0.set_ylabel(\"LogFC\")\n",
    "            \n",
    "ax1=plt.subplot(gs[1,0])\n",
    "sns.scatterplot(x=list(LogFC.values()),y=list(binned.values()),color=\"k\")\n",
    "ax1.set_xlim([0.6,4.3])\n",
    "ax1.set_xlabel(\"LogFC\")\n",
    "ax1.set_ylabel(\"GC%\")\n",
    "\n",
    "sns.despine(left=True, bottom=False)\n",
    "#plt.savefig(\"plot.tiff\")"
   ]
  }
 ],
 "metadata": {
  "kernelspec": {
   "display_name": "Python 3 (ipykernel)",
   "language": "python",
   "name": "python3"
  },
  "language_info": {
   "codemirror_mode": {
    "name": "ipython",
    "version": 3
   },
   "file_extension": ".py",
   "mimetype": "text/x-python",
   "name": "python",
   "nbconvert_exporter": "python",
   "pygments_lexer": "ipython3",
   "version": "3.9.16"
  }
 },
 "nbformat": 4,
 "nbformat_minor": 5
}
